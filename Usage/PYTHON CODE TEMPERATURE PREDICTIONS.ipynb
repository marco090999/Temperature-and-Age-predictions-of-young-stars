{
 "cells": [
  {
   "cell_type": "markdown",
   "id": "3ca5558e",
   "metadata": {},
   "source": [
    "# IMPORT LIBRARIES "
   ]
  },
  {
   "cell_type": "code",
   "execution_count": null,
   "id": "b73db6dd",
   "metadata": {},
   "outputs": [],
   "source": [
    "pip install keras"
   ]
  },
  {
   "cell_type": "code",
   "execution_count": null,
   "id": "c3e85101",
   "metadata": {},
   "outputs": [],
   "source": [
    "pip install tensorflow"
   ]
  },
  {
   "cell_type": "code",
   "execution_count": null,
   "id": "abf46238",
   "metadata": {},
   "outputs": [],
   "source": [
    "pip install tqdm"
   ]
  },
  {
   "cell_type": "code",
   "execution_count": null,
   "id": "6254013b",
   "metadata": {},
   "outputs": [],
   "source": [
    "import matplotlib.pyplot as plt\n",
    "import numpy as np\n",
    "import pandas as pd"
   ]
  },
  {
   "cell_type": "code",
   "execution_count": null,
   "id": "c5964130",
   "metadata": {},
   "outputs": [],
   "source": [
    "from sklearn.model_selection import KFold\n",
    "from sklearn.preprocessing import StandardScaler\n",
    "from sklearn.metrics import mean_squared_error, mean_absolute_error\n",
    "from keras.models import Sequential\n",
    "from keras.layers import Dense, Dropout\n",
    "from keras.callbacks import EarlyStopping\n",
    "import tensorflow.keras.backend as K\n",
    "from sklearn.model_selection import train_test_split\n",
    "from tqdm import tqdm "
   ]
  },
  {
   "cell_type": "code",
   "execution_count": null,
   "id": "b02de89c",
   "metadata": {},
   "outputs": [],
   "source": [
    "import os\n",
    "from math import erf\n",
    "from matplotlib.colors import LogNorm\n",
    "from matplotlib.backends.backend_pdf import PdfPages\n",
    "from matplotlib import rc\n",
    "from matplotlib.ticker import MultipleLocator\n",
    "from mpl_toolkits.axes_grid1 import make_axes_locatable"
   ]
  },
  {
   "cell_type": "code",
   "execution_count": null,
   "id": "b0c591cd",
   "metadata": {},
   "outputs": [],
   "source": [
    "try:\n",
    "    import astropy\n",
    "    from astropy.table import Table, join, vstack\n",
    "    from astropy.table import hstack\n",
    "    from astropy.io import fits\n",
    "    from astropy import units as u\n",
    "    import astropy.coordinates as coord\n",
    "    from astropy.coordinates import SkyCoord\n",
    "    from astropy.table import Table, Column\n",
    "except ImportError:\n",
    "    print(\"astropy is required!\")\n",
    "finally:\n",
    "    print(\"astropy version: %s\" % astropy.__version__)"
   ]
  },
  {
   "cell_type": "markdown",
   "id": "1b26803a",
   "metadata": {},
   "source": [
    "# IMPORT TRAINING AND TEST SET"
   ]
  },
  {
   "cell_type": "code",
   "execution_count": null,
   "id": "f4aa4338",
   "metadata": {},
   "outputs": [],
   "source": [
    "train_set_df_stars_GG2M_model = pd.read_csv('train_set_df_stars_GG2M_model.csv')\n",
    "test_set_df_stars_GG2M_model = pd.read_csv('test_set_df_stars_GG2M_model.csv')"
   ]
  },
  {
   "cell_type": "code",
   "execution_count": null,
   "id": "8a7999bd",
   "metadata": {},
   "outputs": [],
   "source": [
    "X_train = train_set_df_stars_GG2M_model.iloc[:, 3:10]\n",
    "TEFF_train = train_set_df_stars_GG2M_model.iloc[:,1]\n",
    "X_test = test_set_df_stars_GG2M_model.iloc[:, 3:10]\n",
    "TEFF_test = test_set_df_stars_GG2M_model.iloc[:,1]"
   ]
  },
  {
   "cell_type": "markdown",
   "id": "45799c35",
   "metadata": {},
   "source": [
    "# MODEL TRAINING"
   ]
  },
  {
   "cell_type": "code",
   "execution_count": null,
   "id": "8e7e8b1e",
   "metadata": {},
   "outputs": [],
   "source": [
    "scaler = StandardScaler()\n",
    "X_train_scaled = scaler.fit_transform(X_train)\n",
    "X_test_scaled = scaler.transform(X_test)\n",
    "\n",
    "\n",
    "model = Sequential()\n",
    "model.add(Dense(128, activation='relu', input_shape=(X_train.shape[1],)))\n",
    "model.add(Dense(64, activation='relu'))\n",
    "model.add(Dense(32, activation='relu'))\n",
    "model.add(Dense(16, activation='relu'))\n",
    "model.add(Dense(8, activation='relu'))\n",
    "model.add(Dense(1, activation='linear'))  \n",
    "model.compile(optimizer='adam', loss='mae')\n",
    "\n",
    "\n",
    "kf = KFold(n_splits=10, shuffle=True, random_state=42)\n",
    "\n",
    "train_losses = []  \n",
    "val_losses = []    \n",
    "\n",
    "for train_index, val_index in kf.split(X_train_scaled):\n",
    "    X_train_kf, X_val_kf = X_train_scaled[train_index], X_train_scaled[val_index]\n",
    "    y_train_kf, y_val_kf = TEFF_train.iloc[train_index], TEFF_train.iloc[val_index]\n",
    "\n",
    "    h = model.fit(X_train_kf, y_train_kf, validation_data=(X_val_kf, y_val_kf), epochs=50, batch_size=8)\n",
    "    \n",
    "    train_losses.extend(h.history['loss'])\n",
    "    val_losses.extend(h.history['val_loss'])"
   ]
  },
  {
   "cell_type": "markdown",
   "id": "7463a239",
   "metadata": {},
   "source": [
    "# PREDICTIONS ON THE TEST SET"
   ]
  },
  {
   "cell_type": "code",
   "execution_count": null,
   "id": "332f24cb",
   "metadata": {},
   "outputs": [],
   "source": [
    "DNN_pred_test = model.predict(X_test_scaled)\n",
    "df_pred_DNN_test = test_set_df_stars_GG2M_model.iloc[:, :2].copy()\n",
    "df_pred_DNN_test['TEFF_pred'] = DNN_pred_test\n",
    "df_pred_DNN_test.to_csv('df_pred_DNN_test.csv', index=False)"
   ]
  },
  {
   "cell_type": "markdown",
   "id": "92d0fb6e",
   "metadata": {},
   "source": [
    "# VISUALIZATION OF THE TEMPERATURE PREDICTIONS"
   ]
  },
  {
   "cell_type": "code",
   "execution_count": null,
   "id": "1e059215",
   "metadata": {},
   "outputs": [],
   "source": [
    "plt.rc('xtick', labelsize=12)\n",
    "plt.rc('ytick', labelsize=12)\n",
    "\n",
    "plt.rc('axes', labelsize=14)\n",
    "\n",
    "rc('font', family='Times New Roman')\n",
    "plt.rcParams[\"font.family\"] = \"serif\"\n",
    "plt.rcParams[\"font.serif\"] = \"Times New Roman\"\n",
    "plt.rcParams['mathtext.fontset'] = 'custom'\n",
    "plt.rcParams['mathtext.rm'] = 'Times New Roman'\n",
    "\n",
    "x_DNN = TEFF_test\n",
    "y_DNN = DNN_pred_test[:, 0]\n",
    "residuals_DNN = x_DNN - y_DNN\n",
    "\n",
    "media_res_DNN = np.mean(residuals_DNN)\n",
    "rms_res_DNN = np.std(residuals_DNN)\n",
    "median_res_DNN = np.nanmedian(residuals_DNN)\n",
    "\n",
    "differenze_DNN = np.abs(residuals_DNN - median_res_DNN)\n",
    "mad_res_DNN = np.nanmedian(differenze_DNN)\n",
    "n_res_DNN = np.count_nonzero(~np.isnan(residuals_DNN))\n",
    "\n",
    "mae_teff_DNN = mean_absolute_error(x_DNN, y_DNN)\n",
    "rmse_teff_DNN = mean_squared_error(x_DNN, y_DNN, squared=False)"
   ]
  },
  {
   "cell_type": "code",
   "execution_count": null,
   "id": "c30724d7",
   "metadata": {},
   "outputs": [],
   "source": [
    "fig = plt.figure(figsize=(7, 6))\n",
    "\n",
    "rect1 = [0.2, 0.4, 0.65, 0.5] \n",
    "ax1 = fig.add_axes(rect1)\n",
    "\n",
    "hb = ax1.hexbin(x_DNN, y_DNN, gridsize=120, cmap='viridis', mincnt=1)\n",
    "cb = fig.colorbar(hb, label='Density')\n",
    "\n",
    "ax1.set_ylabel(r'$T_{\\mathrm{eff}}^{\\mathrm{NN}}$ [K]')\n",
    "ax1.tick_params(axis='both', which='both', direction='in')\n",
    "ax1.minorticks_on()\n",
    "ax1.plot([2000, 8500], [2000, 8500], color='k', linestyle='-')  # Linea y=x rossa\n",
    "\n",
    "ax1.text(0.65, 0.10, r'MAE = {:.4f}'.format(mae_teff_DNN), transform=ax1.transAxes, fontsize=12)\n",
    "ax1.text(0.65, 0.05, r'RMSE = {:.4f}'.format(rmse_teff_DNN), transform=ax1.transAxes, fontsize=12)\n",
    "\n",
    "ax1.text(0.05, 0.95, r'residuals statistics:', transform=ax1.transAxes, fontsize=12)\n",
    "ax1.text(0.05, 0.9, r'$\\mu$ = {:.4f}'.format(media_res_DNN), transform=ax1.transAxes, fontsize=12)\n",
    "ax1.text(0.05, 0.85, r'$\\sigma$ = {:.4f}'.format(rms_res_DNN), transform=ax1.transAxes, fontsize=12)\n",
    "ax1.text(0.05, 0.8, r'median = {:.4f}'.format(median_res_DNN), transform=ax1.transAxes, fontsize=12)\n",
    "ax1.text(0.05, 0.75, r'MAD = {:.4f}'.format(mad_res_DNN), transform=ax1.transAxes, fontsize=12)\n",
    "ax1.text(0.05, 0.7, r'N = {:d}'.format(n_res_DNN), transform=ax1.transAxes, fontsize=12)\n",
    "\n",
    "rect2 = [0.2, 0.1, 0.52, 0.265] \n",
    "ax2 = fig.add_axes(rect2)\n",
    "\n",
    "hb2 = ax2.hexbin(x_DNN, residuals_DNN, gridsize=120, cmap='viridis', mincnt=1)\n",
    "ax2.plot([2000,8500], [0,0],  color='k', alpha=1, linewidth=0.8) \n",
    "ax2.set_xlabel(r'$T_{\\mathrm{eff}}^{\\mathrm{GES}}$ [K]')\n",
    "ax2.set_ylabel('$\\Delta T_{\\mathrm{eff}}$ [K]')\n",
    "ax2.tick_params(axis='both', which='both', direction='in')\n",
    "ax2.minorticks_on()\n",
    "\n",
    "rect3 = [0.72, 0.1, 0.2, 0.265] \n",
    "ax3 = fig.add_axes(rect3) \n",
    "xx1 = residuals_DNN.min()\n",
    "xxn = residuals_DNN.max()\n",
    "delta_xx = 100\n",
    "ax3.hist(residuals_DNN, bins=np.arange(xx1, xxn + delta_xx, delta_xx), orientation='horizontal', edgecolor='k')\n",
    "ax3.set_yticklabels([])\n",
    "ax3.tick_params(axis='both', which='both', direction='in')\n",
    "ax3.minorticks_on()\n",
    "ax3.set_xlabel('N')\n",
    "plt.savefig('TEFF_pred_DNN.png')\n",
    "plt.tight_layout()"
   ]
  },
  {
   "cell_type": "markdown",
   "id": "433f0f93",
   "metadata": {},
   "source": [
    "# BOOTSTRAP PROCEDURE "
   ]
  },
  {
   "cell_type": "code",
   "execution_count": null,
   "id": "e4f5d437",
   "metadata": {},
   "outputs": [],
   "source": [
    "def build_model():\n",
    "    model = Sequential()\n",
    "    model.add(Dense(128, activation='relu', input_shape=(X_train.shape[1],)))\n",
    "    model.add(Dense(64, activation='relu'))\n",
    "    model.add(Dense(32, activation='relu'))\n",
    "    model.add(Dense(16, activation='relu'))\n",
    "    model.add(Dense(8, activation='relu'))\n",
    "    model.add(Dense(1, activation='linear'))  \n",
    "    model.compile(optimizer='adam', loss='mae')\n",
    "    return model\n",
    "\n",
    "scaler = StandardScaler()\n",
    "X_train_scaled = scaler.fit_transform(X_train)\n",
    "X_test_scaled = scaler.transform(X_test)\n",
    "\n",
    "early_stopping = EarlyStopping(monitor='loss', patience=10, restore_best_weights=True)\n",
    "\n",
    "n_bootstrap = 100\n",
    "train_predictions_df_new = pd.DataFrame(index=range(len(X_train_scaled)))\n",
    "test_predictions_df_new = pd.DataFrame(index=range(len(X_test_scaled)))"
   ]
  },
  {
   "cell_type": "code",
   "execution_count": null,
   "id": "b6534533",
   "metadata": {},
   "outputs": [],
   "source": [
    "model_main = build_model()\n",
    "model_main.fit(X_train_scaled, TEFF_train, epochs=50, batch_size=8, callbacks=[early_stopping])"
   ]
  },
  {
   "cell_type": "code",
   "execution_count": null,
   "id": "e6ca3aed",
   "metadata": {},
   "outputs": [],
   "source": [
    "for i in tqdm(range(n_bootstrap), desc=\"Bootstrap Progress\"):\n",
    "    \n",
    "    bootstrap_indices = np.random.choice(X_train_scaled.shape[0], size=X_train_scaled.shape[0], replace=True)\n",
    "    X_train_bootstrap = X_train_scaled[bootstrap_indices]\n",
    "    y_train_bootstrap = TEFF_train.iloc[bootstrap_indices]\n",
    "\n",
    "    model = build_model()\n",
    "\n",
    "    model.fit(X_train_bootstrap, y_train_bootstrap, epochs=10, batch_size=8, verbose=0, callbacks=[early_stopping])\n",
    "\n",
    "    train_prediction_new2 = model.predict(X_train_scaled)\n",
    "    train_predictions_df_new2[f\"Iteration_{i}\"] = train_prediction_new2.flatten()\n",
    "\n",
    "    test_prediction_new2 = model.predict(X_test_scaled)\n",
    "    test_predictions_df_new2[f\"Iteration_{i}\"] = test_prediction_new2.flatten()\n",
    "\n",
    "    train_predictions_df_new2.to_csv('train_predictions_new2.csv', index=False)\n",
    "    test_predictions_df_new2.to_csv('test_predictions_new2.csv', index=False)"
   ]
  },
  {
   "cell_type": "code",
   "execution_count": null,
   "id": "47c5589a",
   "metadata": {},
   "outputs": [],
   "source": [
    "train_std_error_new = train_predictions_df_new.apply(np.std, axis=1)\n",
    "test_std_error_new = test_predictions_df_new.apply(np.std, axis=1)"
   ]
  },
  {
   "cell_type": "code",
   "execution_count": null,
   "id": "b34f827a",
   "metadata": {},
   "outputs": [],
   "source": [
    "train_IC_new = pd.DataFrame({\n",
    "    'TEFF_train': TEFF_train,\n",
    "})\n",
    "\n",
    "train_IC_new['TEFF_DNN'] = df_pred_DNN_train.iloc[:, -1]\n",
    "train_IC_new['std_dev'] = train_std_error_new\n",
    "train_IC_new['ID'] = df_pred_DNN_train.iloc[:, 0]"
   ]
  },
  {
   "cell_type": "code",
   "execution_count": null,
   "id": "747e26b6",
   "metadata": {},
   "outputs": [],
   "source": [
    "test_IC_new = pd.DataFrame({\n",
    "    'TEFF_test': TEFF_test,\n",
    "})\n",
    "\n",
    "test_IC_new['TEFF_DNN'] = df_pred_DNN_test.iloc[:, -1]\n",
    "test_IC_new['std_dev'] = test_std_error_new\n",
    "test_IC_new['ID'] = df_pred_DNN_test.iloc[:, 0]"
   ]
  },
  {
   "cell_type": "code",
   "execution_count": null,
   "id": "80bcc318",
   "metadata": {},
   "outputs": [],
   "source": [
    "train_IC_new.to_csv('train_IC_new.csv', index=False)\n",
    "test_IC_new.to_csv('test_IC_new.csv', index=False)"
   ]
  },
  {
   "cell_type": "markdown",
   "id": "9019371e",
   "metadata": {},
   "source": [
    "# VISUALIZATION OF THE STD DEV PREDICTIONS"
   ]
  },
  {
   "cell_type": "code",
   "execution_count": null,
   "id": "c63de909",
   "metadata": {},
   "outputs": [],
   "source": [
    "fig = plt.figure(figsize=(7, 6))\n",
    "# Definisci le coordinate per il rettangolo del primo set di assi [x0, y0, larghezza, altezza]\n",
    "rect1 = [0.25, 0.35, 0.7, 0.55] # Grafico superiore\n",
    "\n",
    "# Aggiungi il primo set di assi personalizzati alla figura\n",
    "ax1 = fig.add_axes(rect1)\n",
    "\n",
    "hb = ax1.hexbin(test_IC_new['TEFF_DNN'], test_IC_new['std_dev'], gridsize=120, cmap='gist_ncar_r', mincnt=1)\n",
    "cb = fig.colorbar(hb, label='Density')\n",
    "#\n",
    "ax1.set_ylabel(r'$\\sigma T_{\\mathrm{eff}}^{\\mathrm{NN}}$ [K]')\n",
    "ax1.set_xlabel(r'$T_{\\mathrm{eff}}^{\\mathrm{NN}}$ [K]')\n",
    "ax1.tick_params(axis='both', which='both', direction='in')\n",
    "ax1.set_xlim(2000, 8500)\n",
    "ax1.set_ylim(0, 600)\n",
    "ax1.minorticks_on()\n",
    "plt.savefig('std.dev_vs_TeffDNN_test_new.png')"
   ]
  }
 ],
 "metadata": {
  "kernelspec": {
   "display_name": "Python 3 (ipykernel)",
   "language": "python",
   "name": "python3"
  },
  "language_info": {
   "codemirror_mode": {
    "name": "ipython",
    "version": 3
   },
   "file_extension": ".py",
   "mimetype": "text/x-python",
   "name": "python",
   "nbconvert_exporter": "python",
   "pygments_lexer": "ipython3",
   "version": "3.9.13"
  }
 },
 "nbformat": 4,
 "nbformat_minor": 5
}
